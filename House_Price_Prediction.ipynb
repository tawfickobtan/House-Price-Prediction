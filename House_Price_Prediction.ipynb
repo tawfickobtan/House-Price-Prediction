{
 "cells": [
  {
   "cell_type": "code",
   "execution_count": 1,
   "metadata": {},
   "outputs": [],
   "source": [
    "import pandas as pd\n",
    "import numpy as np\n",
    "import matplotlib.pyplot as plt\n",
    "import seaborn as sns"
   ]
  },
  {
   "cell_type": "code",
   "execution_count": 2,
   "metadata": {},
   "outputs": [
    {
     "name": "stdout",
     "output_type": "stream",
     "text": [
      "        Type    Price Bedrooms Bathrooms   Area Furnished   Level Compound  \\\n",
      "0     Duplex  4000000      3.0       3.0  400.0        No       7  Unknown   \n",
      "1  Apartment  4000000      3.0       3.0  160.0        No     10+  Unknown   \n",
      "2  Apartment  2250000      3.0       2.0  165.0        No       1  Unknown   \n",
      "3  Apartment  1900000      3.0       2.0  230.0        No      10  Unknown   \n",
      "4  Apartment  5800000      2.0       3.0  160.0        No  Ground  Eastown   \n",
      "\n",
      "  Payment_Option  Delivery_Date  Delivery_Term                    City  \n",
      "0           Cash  Ready to move       Finished               Nasr City  \n",
      "1           Cash  Ready to move       Finished             Camp Caesar  \n",
      "2           Cash  Ready to move       Finished                   Smoha  \n",
      "3           Cash  Ready to move       Finished               Nasr City  \n",
      "4           Cash  Ready to move  Semi Finished  New Cairo - El Tagamoa  \n"
     ]
    }
   ],
   "source": [
    "df = pd.read_csv('files/Egypt_Houses_Price.csv')\n",
    "\n",
    "print(df.head())"
   ]
  },
  {
   "cell_type": "code",
   "execution_count": 3,
   "metadata": {},
   "outputs": [
    {
     "name": "stdout",
     "output_type": "stream",
     "text": [
      "Type                0\n",
      "Price               2\n",
      "Bedrooms          203\n",
      "Bathrooms         171\n",
      "Area              471\n",
      "Furnished           0\n",
      "Level               0\n",
      "Compound            0\n",
      "Payment_Option      0\n",
      "Delivery_Date       0\n",
      "Delivery_Term       0\n",
      "City                0\n",
      "dtype: int64\n"
     ]
    }
   ],
   "source": [
    "print(df.isnull().sum())"
   ]
  },
  {
   "cell_type": "code",
   "execution_count": 4,
   "metadata": {},
   "outputs": [
    {
     "data": {
      "text/plain": [
       "(27361, 12)"
      ]
     },
     "execution_count": 4,
     "metadata": {},
     "output_type": "execute_result"
    }
   ],
   "source": [
    "df.shape"
   ]
  },
  {
   "cell_type": "code",
   "execution_count": 5,
   "metadata": {},
   "outputs": [
    {
     "data": {
      "text/plain": [
       "Type\n",
       "Apartment            8506\n",
       "Chalet               6593\n",
       "Duplex                861\n",
       "Penthouse             526\n",
       "Stand Alone Villa    4629\n",
       "Standalone Villa      608\n",
       "Studio                250\n",
       "Town House           3074\n",
       "Twin House           1795\n",
       "Twin house            483\n",
       "Unknown                36\n",
       "Name: Type, dtype: int64"
      ]
     },
     "execution_count": 5,
     "metadata": {},
     "output_type": "execute_result"
    }
   ],
   "source": [
    "df.groupby('Type')['Type'].agg('count')"
   ]
  },
  {
   "cell_type": "code",
   "execution_count": 7,
   "metadata": {},
   "outputs": [
    {
     "name": "stdout",
     "output_type": "stream",
     "text": [
      "Index(['Type', 'Price', 'Bedrooms', 'Bathrooms', 'Area', 'Furnished', 'Level',\n",
      "       'Compound', 'Payment_Option', 'Delivery_Date', 'Delivery_Term', 'City'],\n",
      "      dtype='object')\n"
     ]
    }
   ],
   "source": [
    "print(df.columns)"
   ]
  },
  {
   "cell_type": "code",
   "execution_count": 9,
   "metadata": {},
   "outputs": [],
   "source": [
    "droppeddf = df.drop(['Compound','Payment_Option', 'Delivery_Date', 'Delivery_Term'],axis = \"columns\")"
   ]
  },
  {
   "cell_type": "code",
   "execution_count": 10,
   "metadata": {},
   "outputs": [
    {
     "name": "stdout",
     "output_type": "stream",
     "text": [
      "        Type    Price Bedrooms Bathrooms   Area Furnished   Level  \\\n",
      "0     Duplex  4000000      3.0       3.0  400.0        No       7   \n",
      "1  Apartment  4000000      3.0       3.0  160.0        No     10+   \n",
      "2  Apartment  2250000      3.0       2.0  165.0        No       1   \n",
      "3  Apartment  1900000      3.0       2.0  230.0        No      10   \n",
      "4  Apartment  5800000      2.0       3.0  160.0        No  Ground   \n",
      "\n",
      "                     City  \n",
      "0               Nasr City  \n",
      "1             Camp Caesar  \n",
      "2                   Smoha  \n",
      "3               Nasr City  \n",
      "4  New Cairo - El Tagamoa  \n"
     ]
    }
   ],
   "source": [
    "print(droppeddf.head())"
   ]
  },
  {
   "cell_type": "code",
   "execution_count": 12,
   "metadata": {},
   "outputs": [
    {
     "name": "stdout",
     "output_type": "stream",
     "text": [
      "Type           0\n",
      "Price          2\n",
      "Bedrooms     203\n",
      "Bathrooms    171\n",
      "Area         471\n",
      "Furnished      0\n",
      "Level          0\n",
      "City           0\n",
      "dtype: int64\n"
     ]
    }
   ],
   "source": [
    "print(droppeddf.isnull().sum())"
   ]
  },
  {
   "cell_type": "code",
   "execution_count": 17,
   "metadata": {},
   "outputs": [
    {
     "name": "stdout",
     "output_type": "stream",
     "text": [
      "Type         0\n",
      "Price        0\n",
      "Bedrooms     0\n",
      "Bathrooms    0\n",
      "Area         0\n",
      "Furnished    0\n",
      "Level        0\n",
      "City         0\n",
      "dtype: int64\n",
      "Shape: (26730, 8)\n"
     ]
    }
   ],
   "source": [
    "droppeddf = droppeddf.dropna()\n",
    "print(droppeddf.isnull().sum())\n",
    "print(\"Shape:\",droppeddf.shape)"
   ]
  }
 ],
 "metadata": {
  "kernelspec": {
   "display_name": "Python 3",
   "language": "python",
   "name": "python3"
  },
  "language_info": {
   "codemirror_mode": {
    "name": "ipython",
    "version": 3
   },
   "file_extension": ".py",
   "mimetype": "text/x-python",
   "name": "python",
   "nbconvert_exporter": "python",
   "pygments_lexer": "ipython3",
   "version": "3.11.3"
  }
 },
 "nbformat": 4,
 "nbformat_minor": 2
}
